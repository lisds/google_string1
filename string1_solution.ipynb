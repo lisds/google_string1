{
 "cells": [
  {
   "cell_type": "markdown",
   "id": "bc7e5653",
   "metadata": {},
   "source": [
    "# Basic string exercises"
   ]
  },
  {
   "cell_type": "markdown",
   "id": "b027d082",
   "metadata": {},
   "source": [
    "Copyright 2010 Google Inc. Licensed under the Apache License, Version 2.0\n",
    "<http://www.apache.org/licenses/LICENSE-2.0>"
   ]
  },
  {
   "cell_type": "markdown",
   "id": "76fd7216",
   "metadata": {},
   "source": [
    "Google's Python Class:\n",
    "<http://code.google.com/edu/languages/google-python-class/>\n"
   ]
  },
  {
   "cell_type": "markdown",
   "id": "13ef0e3b",
   "metadata": {},
   "source": [
    "## Introduction"
   ]
  },
  {
   "cell_type": "markdown",
   "id": "cfe8f376",
   "metadata": {},
   "source": [
    "You might want to read the [Google course chapter on\n",
    "strings](https://developers.google.com/edu/python/strings).\n",
    "\n",
    "Fill in the code for the functions below.\n",
    "\n",
    "When you have filled in the code for the function, run the tests for the function in the cell below the function.\n",
    "\n",
    "The tests call the function with a few different inputs.  If the function is not correct, they will give an `AssertionError`.  If the function appears to be correct, the test cell will run without error.\n",
    "\n",
    "The starter code for each function includes a `return ...` which is just a\n",
    "placeholder for your code.\n",
    "\n",
    "It's OK if you do not complete all the functions, and there are some\n",
    "additional functions to try in the `google_string2` exercise."
   ]
  },
  {
   "cell_type": "markdown",
   "id": "2e336073",
   "metadata": {},
   "source": [
    "## Donuts\n",
    "\n",
    "Yes, that's the US spelling of doughnuts.\n",
    "\n",
    "Given an integer count of a number of donuts, return a string of the form\n",
    "'Number of donuts: <count>', where <count> is the number passed in.\n",
    "However, if the count is 10 or more, then use the word 'many' instead of\n",
    "the actual count.\n",
    "\n",
    "So `donuts(5)` returns `'Number of donuts: 5'`\n",
    "and `donuts(23)` returns `'Number of donuts: many'`"
   ]
  },
  {
   "cell_type": "code",
   "execution_count": 1,
   "id": "efcb3013",
   "metadata": {
    "execution": {
     "iopub.execute_input": "2022-12-15T14:28:18.970645Z",
     "iopub.status.busy": "2022-12-15T14:28:18.970362Z",
     "iopub.status.idle": "2022-12-15T14:28:18.977484Z",
     "shell.execute_reply": "2022-12-15T14:28:18.976922Z"
    }
   },
   "outputs": [],
   "source": [
    "def donuts(count):\n",
    "    if count < 10:\n",
    "        return 'Number of donuts: ' + str(count)\n",
    "    else:\n",
    "        return 'Number of donuts: many'"
   ]
  },
  {
   "cell_type": "markdown",
   "id": "1fa3cc8e",
   "metadata": {},
   "source": [
    "Run the cell below to test your `donuts` function above.  If it appears to be correct, the cell will run without error.   If any of the tests fail, you will see an `AssertionError`:"
   ]
  },
  {
   "cell_type": "code",
   "execution_count": 2,
   "id": "5565529a",
   "metadata": {
    "execution": {
     "iopub.execute_input": "2022-12-15T14:28:18.980592Z",
     "iopub.status.busy": "2022-12-15T14:28:18.980342Z",
     "iopub.status.idle": "2022-12-15T14:28:18.983529Z",
     "shell.execute_reply": "2022-12-15T14:28:18.982953Z"
    }
   },
   "outputs": [],
   "source": [
    "# Run this cell to test your function\n",
    "assert donuts(4) == 'Number of donuts: 4'\n",
    "assert donuts(9) == 'Number of donuts: 9'\n",
    "assert donuts(10) == 'Number of donuts: many'\n",
    "assert donuts(99) == 'Number of donuts: many'"
   ]
  },
  {
   "cell_type": "markdown",
   "id": "5531184a",
   "metadata": {},
   "source": [
    "## both_ends\n",
    "\n",
    "Given a string `s`, return a string made of the first 2 and the last 2 chars of\n",
    "the original string, so 'spring' yields 'spng'. However, if the string length\n",
    "is less than 2, return instead the empty string."
   ]
  },
  {
   "cell_type": "code",
   "execution_count": 3,
   "id": "d8fd2747",
   "metadata": {
    "execution": {
     "iopub.execute_input": "2022-12-15T14:28:18.986895Z",
     "iopub.status.busy": "2022-12-15T14:28:18.986644Z",
     "iopub.status.idle": "2022-12-15T14:28:18.989849Z",
     "shell.execute_reply": "2022-12-15T14:28:18.989296Z"
    }
   },
   "outputs": [],
   "source": [
    "def both_ends(s):\n",
    "    #- +++your code here+++\n",
    "    if len(s) < 2:\n",
    "        return ''\n",
    "    first2 = s[0:2]\n",
    "    last2 = s[-2:]\n",
    "    return first2 + last2"
   ]
  },
  {
   "cell_type": "code",
   "execution_count": 4,
   "id": "9178fa1d",
   "metadata": {
    "execution": {
     "iopub.execute_input": "2022-12-15T14:28:18.993127Z",
     "iopub.status.busy": "2022-12-15T14:28:18.992825Z",
     "iopub.status.idle": "2022-12-15T14:28:18.995815Z",
     "shell.execute_reply": "2022-12-15T14:28:18.995279Z"
    }
   },
   "outputs": [],
   "source": [
    "# Run this cell to test your function\n",
    "assert both_ends('spring') == 'spng'\n",
    "assert both_ends('Hello') == 'Helo'\n",
    "assert both_ends('a') == ''\n",
    "assert both_ends('xyz') == 'xyyz'"
   ]
  },
  {
   "cell_type": "markdown",
   "id": "5c0a7986",
   "metadata": {},
   "source": [
    "## fix_start\n",
    "\n",
    "Given a string `s`, return a string where all occurrences of its first\n",
    "character have been changed to `'*'`, except do not change the first character\n",
    "itself; e.g. `'babble'` yields `'ba**le'`\n",
    "\n",
    "Assume that the string is length 1 or more.\n",
    "\n",
    "**Hint**: `s.replace('foo', 'bar')` returns a version of string `s` where all\n",
    "instances of `'foo'` have been replaced by `'bar'`."
   ]
  },
  {
   "cell_type": "code",
   "execution_count": 5,
   "id": "ef7c37a8",
   "metadata": {
    "execution": {
     "iopub.execute_input": "2022-12-15T14:28:18.998815Z",
     "iopub.status.busy": "2022-12-15T14:28:18.998595Z",
     "iopub.status.idle": "2022-12-15T14:28:19.002101Z",
     "shell.execute_reply": "2022-12-15T14:28:19.001488Z"
    }
   },
   "outputs": [],
   "source": [
    "def fix_start(s):\n",
    "    #- +++your code here+++\n",
    "    front = s[0]\n",
    "    back = s[1:]\n",
    "    fixed_back = back.replace(front, '*')\n",
    "    return front + fixed_back"
   ]
  },
  {
   "cell_type": "code",
   "execution_count": 6,
   "id": "27253921",
   "metadata": {
    "execution": {
     "iopub.execute_input": "2022-12-15T14:28:19.005061Z",
     "iopub.status.busy": "2022-12-15T14:28:19.004824Z",
     "iopub.status.idle": "2022-12-15T14:28:19.007922Z",
     "shell.execute_reply": "2022-12-15T14:28:19.007344Z"
    }
   },
   "outputs": [],
   "source": [
    "# Run this cell to test your function\n",
    "assert fix_start('babble') == 'ba**le'\n",
    "assert fix_start('aardvark') == 'a*rdv*rk'\n",
    "assert fix_start('google') == 'goo*le'\n",
    "assert fix_start('donut') == 'donut'"
   ]
  },
  {
   "cell_type": "markdown",
   "id": "4f2b0baf",
   "metadata": {},
   "source": [
    "## MixUp\n",
    "\n",
    "Given strings `a` and `b`, return a single string with the values in `a` and\n",
    "`b` separated by a space `'<a> <b>'`, except swap the first 2 chars of each\n",
    "string.\n",
    "\n",
    "For example:\n",
    "\n",
    "- if `a` = `'mix'`, `b` = `'pod'`, result should be `'pox mid'`\n",
    "- `'dog'`, `'dinner'` -> `'dig donner'`\n",
    "\n",
    "Assume `a` and `b` are length 2 or more."
   ]
  },
  {
   "cell_type": "code",
   "execution_count": 7,
   "id": "5eea6000",
   "metadata": {
    "execution": {
     "iopub.execute_input": "2022-12-15T14:28:19.011087Z",
     "iopub.status.busy": "2022-12-15T14:28:19.010807Z",
     "iopub.status.idle": "2022-12-15T14:28:19.014308Z",
     "shell.execute_reply": "2022-12-15T14:28:19.013674Z"
    },
    "lines_to_next_cell": 2
   },
   "outputs": [],
   "source": [
    "def mix_up(a, b):\n",
    "    #- +++your code here+++\n",
    "    a_swapped = b[:2] + a[2:]\n",
    "    b_swapped = a[:2] + b[2:]\n",
    "    return a_swapped + ' ' + b_swapped"
   ]
  },
  {
   "cell_type": "code",
   "execution_count": 8,
   "id": "67e7f0d8",
   "metadata": {
    "execution": {
     "iopub.execute_input": "2022-12-15T14:28:19.017498Z",
     "iopub.status.busy": "2022-12-15T14:28:19.017225Z",
     "iopub.status.idle": "2022-12-15T14:28:19.020889Z",
     "shell.execute_reply": "2022-12-15T14:28:19.020250Z"
    }
   },
   "outputs": [],
   "source": [
    "# Run this cell to test your function\n",
    "assert mix_up('mix', 'pod') == 'pox mid'\n",
    "assert mix_up('dog', 'dinner') == 'dig donner'\n",
    "assert mix_up('gnash', 'sport') == 'spash gnort'\n",
    "assert mix_up('pezzy', 'firm') == 'fizzy perm'"
   ]
  },
  {
   "cell_type": "markdown",
   "id": "92732431",
   "metadata": {},
   "source": [
    "## That's it!\n",
    "\n",
    "You've finished the exercise."
   ]
  }
 ],
 "metadata": {
  "jupytext": {
   "cell_metadata_filter": "-all",
   "notebook_metadata_filter": "all,-language_info",
   "split_at_heading": true,
   "text_representation": {
    "extension": ".Rmd",
    "format_name": "rmarkdown",
    "format_version": "1.2",
    "jupytext_version": "1.13.7"
   }
  },
  "kernelspec": {
   "display_name": "Python 3",
   "language": "python",
   "name": "python3"
  },
  "language_info": {
   "codemirror_mode": {
    "name": "ipython",
    "version": 3
   },
   "file_extension": ".py",
   "mimetype": "text/x-python",
   "name": "python",
   "nbconvert_exporter": "python",
   "pygments_lexer": "ipython3",
   "version": "3.8.15"
  }
 },
 "nbformat": 4,
 "nbformat_minor": 5
}
